{
  "nbformat": 4,
  "nbformat_minor": 0,
  "metadata": {
    "colab": {
      "provenance": [],
      "authorship_tag": "ABX9TyN5uUPrN4oYHLOf6G4XpqRY",
      "include_colab_link": true
    },
    "kernelspec": {
      "name": "python3",
      "display_name": "Python 3"
    },
    "language_info": {
      "name": "python"
    }
  },
  "cells": [
    {
      "cell_type": "markdown",
      "metadata": {
        "id": "view-in-github",
        "colab_type": "text"
      },
      "source": [
        "<a href=\"https://colab.research.google.com/github/Bilal-Waleed/ID-Card-with-python-Google-Colab/blob/main/id_card.ipynb\" target=\"_parent\"><img src=\"https://colab.research.google.com/assets/colab-badge.svg\" alt=\"Open In Colab\"/></a>"
      ]
    },
    {
      "cell_type": "code",
      "execution_count": null,
      "metadata": {
        "id": "skUAt_02aFgJ"
      },
      "outputs": [],
      "source": []
    },
    {
      "cell_type": "code",
      "source": [
        "from google.colab import drive\n",
        "drive.mount('/content/drive')"
      ],
      "metadata": {
        "colab": {
          "base_uri": "https://localhost:8080/"
        },
        "id": "4zrzk1cpaSvy",
        "outputId": "229ffe8c-da4f-4b5b-8c91-07c7a435dacd"
      },
      "execution_count": null,
      "outputs": [
        {
          "output_type": "stream",
          "name": "stdout",
          "text": [
            "Mounted at /content/drive\n"
          ]
        }
      ]
    },
    {
      "cell_type": "code",
      "source": [
        "from PIL import Image, ImageDraw, ImageFont\n",
        "\n",
        "# Define the ID card dimensions\n",
        "width = 600\n",
        "height = 400\n",
        "\n",
        "# Create a white background image\n",
        "image = Image.new(\"RGB\", (width, height), \"white\")\n",
        "\n",
        "# Create a green outline\n",
        "draw = ImageDraw.Draw(image)\n",
        "draw.rectangle([(0, 0), (width, height)], outline=\"green\", width=5)\n",
        "\n",
        "# Define font and size\n",
        "font_title = ImageFont.truetype(\"/usr/share/fonts/truetype/liberation/LiberationSans-Bold.ttf\", 24)\n",
        "font_content = ImageFont.truetype(\"/usr/share/fonts/truetype/liberation/LiberationSans-Regular.ttf\", 18)\n",
        "\n",
        "# Write \"ID Card\" in the top left corner\n",
        "draw.text((20, 20), \"ID Card\", fill=\"green\", font=font_title)\n",
        "\n",
        "detail_font = ImageFont.load_default()\n",
        "\n",
        "details = [\n",
        "    (\"Name:\", \" Muhammad Bilal Waleed\"),\n",
        "    (\"Roll No:\", \" PIAIC244462\"),\n",
        "    (\"Distance learning:\", \" No\"),\n",
        "    (\"City:\", \" Karachi\"),\n",
        "    (\"Center:\", \" Bahria Auditorium\"),\n",
        "    (\"Campus:\", \" Karsaz\"),\n",
        "    (\"Day/Time:\", \" Sunday-2:00pm to 6:00pm\"),\n",
        "    (\"Batch\", \"61\")\n",
        "]\n",
        "\n",
        "x_offset = 30\n",
        "y_offset = 80\n",
        "line_height = 30  # Space between lines\n",
        "\n",
        "for label, value in details:\n",
        "    if label == \"Batch\":  # Special handling for \"Batch 61\"\n",
        "        # Draw label in green using the same font as in the previous code\n",
        "        draw.text((x_offset, y_offset), f\"{label} {value}\", font=font_content, fill=\"green\")\n",
        "    else:\n",
        "        # Draw label in green using the same font as in the previous code\n",
        "        draw.text((x_offset, y_offset), label, font=font_content, fill=\"green\")\n",
        "\n",
        "        # Draw value in black using the same font and darkest black\n",
        "        draw.text((x_offset + draw.textbbox((0, 0), label, font=font_content)[2], y_offset), value, font=font_content, fill=(0, 0, 0))  # Darker black\n",
        "\n",
        "    y_offset += line_height\n",
        "\n",
        "\n",
        "# Add watermark with increased transparency\n",
        "try:\n",
        "    watermark = Image.open(\"/content/piaic.png\").convert(\"RGBA\")\n",
        "    watermark = watermark.resize((150, 150))\n",
        "\n",
        "    # Make watermark more transparent (e.g., 80% transparency)\n",
        "    alpha = watermark.split()[3]\n",
        "    alpha = alpha.point(lambda p: p * 0.2)  # Reduce opacity by 80%\n",
        "    watermark.putalpha(alpha)\n",
        "\n",
        "    # Paste the watermark\n",
        "    image.paste(watermark, (width // 2 - 75, height // 2 - 75), mask=watermark)\n",
        "except FileNotFoundError:\n",
        "    print(\"Watermark not found at /content/piaic.png\")\n",
        "\n",
        "# Add my pic with increased size and a green outline\n",
        "try:\n",
        "    my_pic = Image.open(\"/content/pic.jpg\").convert(\"RGB\")\n",
        "    my_pic = my_pic.resize((135, 135))  # Increased size\n",
        "    pic_x = width - 170\n",
        "    pic_y = 50\n",
        "    image.paste(my_pic, (pic_x, pic_y))\n",
        "\n",
        "    # Draw green outline around the picture\n",
        "    draw.rectangle([(pic_x - 5, pic_y - 5), (pic_x + 130 + 5, pic_y + 130 + 5)], outline=\"green\", width=5)\n",
        "except FileNotFoundError:\n",
        "    print(\"Picture not found at /content/pic.jpg\")\n",
        "\n",
        "# Add barcode close to the picture\n",
        "try:\n",
        "    barcode = Image.open(\"/content/barcode.png\").convert(\"RGB\")\n",
        "    barcode = barcode.resize((150, 130))  # Increased height and width of barcode\n",
        "    barcode_x = width - 185  # Shifted left\n",
        "    barcode_y = 220  # Shifted downward\n",
        "    image.paste(barcode, (barcode_x, barcode_y))\n",
        "except FileNotFoundError:\n",
        "    print(\"Barcode not found at /content/barcode.png\")\n",
        "\n",
        "# Add a horizontal black line above the \"Authorized Signature\" text\n",
        "line_y = barcode_y + barcode.height - 5  # Adjust the position of the line above the text\n",
        "draw.line([(barcode_x, line_y), (barcode_x + 160, line_y)], fill=\"black\", width=2)\n",
        "\n",
        "# Add text directly under the barcode\n",
        "text_x = barcode_x  # Align text directly under the barcode (same x)\n",
        "text_y = barcode_y + barcode.height + 5  # Place text just below the barcode with a small gap\n",
        "draw.text((text_x, text_y), \"Authorized Signature\", fill=\"green\", font=font_content)\n",
        "\n",
        "# Define new dimensions for the boxes\n",
        "box_width = 100  # Increased width for longer boxes\n",
        "box_height = 30  # Decreased height for thinner boxes\n",
        "box_y_position = height - box_height - 6\n",
        "\n",
        "# Red box\n",
        "red_box_x = 5\n",
        "draw.rectangle([(red_box_x, box_y_position), (red_box_x + box_width, box_y_position + box_height)], fill=\"red\")\n",
        "draw.text((red_box_x + 15, box_y_position + 5), \"Q1\", fill=\"white\", font=font_content)  # Adjusted text position\n",
        "\n",
        "# Green box, directly next to the red box\n",
        "green_box_x = red_box_x + box_width  # No gap between red and green boxes\n",
        "draw.rectangle([(green_box_x, box_y_position), (green_box_x + box_width, box_y_position + box_height)], fill=\"green\")\n",
        "draw.text((green_box_x + 10, box_y_position + 5), \"WMD\", fill=\"white\", font=font_content)  # Adjusted text position\n",
        "\n",
        "\n",
        "# Save the ID card\n",
        "image.save(\"/content/id_card.png\")\n",
        "\n",
        "print(\"ID card generated successfully!\")\n"
      ],
      "metadata": {
        "colab": {
          "base_uri": "https://localhost:8080/"
        },
        "id": "EgKzvI41tN2F",
        "outputId": "13e0e229-766c-4f26-ca90-e36e05f8b099"
      },
      "execution_count": 20,
      "outputs": [
        {
          "output_type": "stream",
          "name": "stdout",
          "text": [
            "ID card generated successfully!\n"
          ]
        }
      ]
    }
  ]
}